{
  "nbformat": 4,
  "nbformat_minor": 0,
  "metadata": {
    "colab": {
      "provenance": [],
      "authorship_tag": "ABX9TyN05NwYz645hXSjTWu5UF47",
      "include_colab_link": true
    },
    "kernelspec": {
      "name": "python3",
      "display_name": "Python 3"
    },
    "language_info": {
      "name": "python"
    }
  },
  "cells": [
    {
      "cell_type": "markdown",
      "metadata": {
        "id": "view-in-github",
        "colab_type": "text"
      },
      "source": [
        "<a href=\"https://colab.research.google.com/github/divyaparadkar/pandas-/blob/main/S%26P_in_python.ipynb\" target=\"_parent\"><img src=\"https://colab.research.google.com/assets/colab-badge.svg\" alt=\"Open In Colab\"/></a>"
      ]
    },
    {
      "cell_type": "code",
      "execution_count": 1,
      "metadata": {
        "id": "8vFFsHdoK1cK"
      },
      "outputs": [],
      "source": [
        "import numpy as np\n",
        "from scipy import sparse"
      ]
    },
    {
      "cell_type": "code",
      "source": [
        "matrix = np.array([[1,2,3],\n",
        "  [4,5,6],\n",
        "  [6,7,8]])"
      ],
      "metadata": {
        "id": "ExiWtDAdLMZ2"
      },
      "execution_count": 3,
      "outputs": []
    },
    {
      "cell_type": "code",
      "source": [
        "print(\"Original matrix: \\n\",matrix)"
      ],
      "metadata": {
        "colab": {
          "base_uri": "https://localhost:8080/"
        },
        "id": "fAMhlOblLdrz",
        "outputId": "51833858-afcb-483d-f0b4-dbc0e367978a"
      },
      "execution_count": 4,
      "outputs": [
        {
          "output_type": "stream",
          "name": "stdout",
          "text": [
            "Original matrix: \n",
            " [[1 2 3]\n",
            " [4 5 6]\n",
            " [6 7 8]]\n"
          ]
        }
      ]
    },
    {
      "cell_type": "code",
      "source": [
        "print(sparse.dok_matrix(matrix))"
      ],
      "metadata": {
        "colab": {
          "base_uri": "https://localhost:8080/"
        },
        "id": "fuG3x_13Lmqn",
        "outputId": "7042b9c3-79c2-4bfa-ef39-5bdbb6af399a"
      },
      "execution_count": 5,
      "outputs": [
        {
          "output_type": "stream",
          "name": "stdout",
          "text": [
            "  (0, 0)\t1\n",
            "  (0, 1)\t2\n",
            "  (0, 2)\t3\n",
            "  (1, 0)\t4\n",
            "  (1, 1)\t5\n",
            "  (1, 2)\t6\n",
            "  (2, 0)\t6\n",
            "  (2, 1)\t7\n",
            "  (2, 2)\t8\n"
          ]
        }
      ]
    },
    {
      "cell_type": "code",
      "source": [
        "print(sparse.dia_matrix(matrix))"
      ],
      "metadata": {
        "colab": {
          "base_uri": "https://localhost:8080/"
        },
        "id": "99HlR2qmLv04",
        "outputId": "5c313813-f2d8-4be2-fcf7-05049e185bcd"
      },
      "execution_count": 7,
      "outputs": [
        {
          "output_type": "stream",
          "name": "stdout",
          "text": [
            "  (2, 0)\t6\n",
            "  (1, 0)\t4\n",
            "  (2, 1)\t7\n",
            "  (0, 0)\t1\n",
            "  (1, 1)\t5\n",
            "  (2, 2)\t8\n",
            "  (0, 1)\t2\n",
            "  (1, 2)\t6\n",
            "  (0, 2)\t3\n"
          ]
        }
      ]
    },
    {
      "cell_type": "code",
      "source": [
        "matrix"
      ],
      "metadata": {
        "colab": {
          "base_uri": "https://localhost:8080/"
        },
        "id": "ITVP3-A7MAK-",
        "outputId": "c966b002-c501-4862-fec1-77c1b83a70cf"
      },
      "execution_count": 8,
      "outputs": [
        {
          "output_type": "execute_result",
          "data": {
            "text/plain": [
              "array([[1, 2, 3],\n",
              "       [4, 5, 6],\n",
              "       [6, 7, 8]])"
            ]
          },
          "metadata": {},
          "execution_count": 8
        }
      ]
    },
    {
      "cell_type": "code",
      "source": [
        "print(np.linalg.inv(matrix))"
      ],
      "metadata": {
        "colab": {
          "base_uri": "https://localhost:8080/"
        },
        "id": "G13tVwvpMNmG",
        "outputId": "c5202a5f-700f-40c5-db37-c9a1e54cef40"
      },
      "execution_count": 9,
      "outputs": [
        {
          "output_type": "stream",
          "name": "stdout",
          "text": [
            "[[ 4.50359963e+14 -1.12589991e+15  6.75539944e+14]\n",
            " [-9.00719925e+14  2.25179981e+15 -1.35107989e+15]\n",
            " [ 4.50359963e+14 -1.12589991e+15  6.75539944e+14]]\n"
          ]
        }
      ]
    }
  ]
}